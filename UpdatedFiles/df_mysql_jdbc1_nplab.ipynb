{
 "cells": [
  {
   "cell_type": "code",
   "execution_count": 6,
   "metadata": {},
   "outputs": [
    {
     "ename": "ImportError",
     "evalue": "No module named 'pyspark'",
     "output_type": "error",
     "traceback": [
      "\u001b[0;31m---------------------------------------------------------------------------\u001b[0m",
      "\u001b[0;31mImportError\u001b[0m                               Traceback (most recent call last)",
      "\u001b[0;32m<ipython-input-6-15758b3a47bd>\u001b[0m in \u001b[0;36m<module>\u001b[0;34m\u001b[0m\n\u001b[0;32m----> 1\u001b[0;31m \u001b[0;32mimport\u001b[0m \u001b[0mpyspark\u001b[0m\u001b[0;34m\u001b[0m\u001b[0m\n\u001b[0m\u001b[1;32m      2\u001b[0m \u001b[0;32mimport\u001b[0m \u001b[0mos\u001b[0m\u001b[0;34m\u001b[0m\u001b[0m\n\u001b[1;32m      3\u001b[0m \u001b[0mos\u001b[0m\u001b[0;34m.\u001b[0m\u001b[0menviron\u001b[0m\u001b[0;34m[\u001b[0m\u001b[0;34m'PYSPARK_SUBMIT_ARGS'\u001b[0m\u001b[0;34m]\u001b[0m \u001b[0;34m=\u001b[0m\u001b[0;31m \u001b[0m\u001b[0;31m'\u001b[0m\u001b[0;34m-\u001b[0m\u001b[0;34m-\u001b[0m\u001b[0mjars\u001b[0m\u001b[0;31m \u001b[0m\u001b[0;31m\\\u001b[0m\u001b[0;34m\u001b[0m\u001b[0m\n\u001b[1;32m      4\u001b[0m \u001b[0;34m/\u001b[0m\u001b[0mopt\u001b[0m\u001b[0;34m/\u001b[0m\u001b[0mcloudera\u001b[0m\u001b[0;34m/\u001b[0m\u001b[0mparcels\u001b[0m\u001b[0;34m/\u001b[0m\u001b[0mCDH\u001b[0m\u001b[0;34m-\u001b[0m\u001b[0;36m6.2\u001b[0m\u001b[0;36m.1\u001b[0m\u001b[0;34m-\u001b[0m\u001b[0;36m1.\u001b[0m\u001b[0mcdh6\u001b[0m\u001b[0;36m.2\u001b[0m\u001b[0;36m.1\u001b[0m\u001b[0;34m.\u001b[0m\u001b[0mp0\u001b[0m\u001b[0;36m.1425774\u001b[0m\u001b[0;34m/\u001b[0m\u001b[0mlib\u001b[0m\u001b[0;34m/\u001b[0m\u001b[0msqoop\u001b[0m\u001b[0;34m/\u001b[0m\u001b[0mlib\u001b[0m\u001b[0;34m/\u001b[0m\u001b[0mmysql\u001b[0m\u001b[0;34m-\u001b[0m\u001b[0mconnector\u001b[0m\u001b[0;34m-\u001b[0m\u001b[0mjava\u001b[0m\u001b[0;34m-\u001b[0m\u001b[0;36m5.1\u001b[0m\u001b[0;36m.7\u001b[0m\u001b[0;34m/\u001b[0m\u001b[0mmysql\u001b[0m\u001b[0;34m-\u001b[0m\u001b[0mconnector\u001b[0m\u001b[0;34m-\u001b[0m\u001b[0mjava\u001b[0m\u001b[0;34m-\u001b[0m\u001b[0;36m5.1\u001b[0m\u001b[0;36m.7\u001b[0m\u001b[0;34m-\u001b[0m\u001b[0mbin\u001b[0m\u001b[0;34m.\u001b[0m\u001b[0mjar\u001b[0m\u001b[0;31m \u001b[0m\u001b[0;31m\\\u001b[0m\u001b[0;34m\u001b[0m\u001b[0m\n\u001b[1;32m      5\u001b[0m \u001b[0mpyspark\u001b[0m\u001b[0;34m-\u001b[0m\u001b[0mshell\u001b[0m\u001b[0;31m'\u001b[0m\u001b[0;34m\u001b[0m\u001b[0m\n",
      "\u001b[0;31mImportError\u001b[0m: No module named 'pyspark'"
     ]
    }
   ],
   "source": [
    "import pyspark\n",
    "import os\n",
    "os.environ['PYSPARK_SUBMIT_ARGS'] = '--jars \\\n",
    "/opt/cloudera/parcels/CDH-6.2.1-1.cdh6.2.1.p0.1425774/lib/sqoop/lib/mysql-connector-java-5.1.7/mysql-connector-java-5.1.7-bin.jar \\\n",
    "pyspark-shell'"
   ]
  },
  {
   "cell_type": "raw",
   "metadata": {},
   "source": [
    "Note: Only argument --jars is given above while starting the pyspark shell."
   ]
  },
  {
   "cell_type": "code",
   "execution_count": 5,
   "metadata": {},
   "outputs": [
    {
     "ename": "ImportError",
     "evalue": "No module named 'pyspark'",
     "output_type": "error",
     "traceback": [
      "\u001b[0;31m---------------------------------------------------------------------------\u001b[0m",
      "\u001b[0;31mImportError\u001b[0m                               Traceback (most recent call last)",
      "\u001b[0;32m<ipython-input-5-3e4c0e7891bc>\u001b[0m in \u001b[0;36m<module>\u001b[0;34m\u001b[0m\n\u001b[0;32m----> 1\u001b[0;31m \u001b[0;32mimport\u001b[0m \u001b[0mpyspark\u001b[0m\u001b[0;34m\u001b[0m\u001b[0m\n\u001b[0m\u001b[1;32m      2\u001b[0m \u001b[0;32mfrom\u001b[0m \u001b[0mpyspark\u001b[0m\u001b[0;34m.\u001b[0m\u001b[0msql\u001b[0m \u001b[0;32mimport\u001b[0m \u001b[0mSparkSession\u001b[0m\u001b[0;34m\u001b[0m\u001b[0m\n\u001b[1;32m      3\u001b[0m \u001b[0mspark\u001b[0m \u001b[0;34m=\u001b[0m \u001b[0mSparkSession\u001b[0m\u001b[0;34m.\u001b[0m\u001b[0mbuilder\u001b[0m\u001b[0;34m.\u001b[0m\u001b[0mappName\u001b[0m\u001b[0;34m(\u001b[0m\u001b[0;34m\"PySpark MySQL JDBC example\"\u001b[0m\u001b[0;34m)\u001b[0m\u001b[0;34m.\u001b[0m\u001b[0mgetOrCreate\u001b[0m\u001b[0;34m(\u001b[0m\u001b[0;34m)\u001b[0m\u001b[0;34m\u001b[0m\u001b[0m\n",
      "\u001b[0;31mImportError\u001b[0m: No module named 'pyspark'"
     ]
    }
   ],
   "source": [
    "\n",
    "from pyspark.sql import SparkSession\n",
    "spark = SparkSession.builder.appName(\"PySpark MySQL JDBC example\").getOrCreate()"
   ]
  },
  {
   "cell_type": "raw",
   "metadata": {},
   "source": [
    "Following is the syntax to give each option separately.\n",
    "Note that driver has to be provided as one of the options because\n",
    "pyspark shell is started without the argument --driver-class-path."
   ]
  },
  {
   "cell_type": "code",
   "execution_count": null,
   "metadata": {},
   "outputs": [],
   "source": [
    "df_mysql = spark.read.format(\"jdbc\").\\\n",
    "option(\"driver\", \"com.mysql.jdbc.Driver\").\\\n",
    "option(\"url\", \"jdbc:mysql://ip-10-1-1-204.ap-south-1.compute.internal/jigsawdb\").\\\n",
    "option(\"dbtable\", \"cctab\").\\\n",
    "option(\"user\", \"jigsawuser\").option(\"password\",\"jigsaw321$\").\\\n",
    "load()"
   ]
  },
  {
   "cell_type": "raw",
   "metadata": {},
   "source": [
    "Below is the alternate syntax for the same.\n",
    "Instead of .option the parameters are given as a dictionary as key-value pairs"
   ]
  },
  {
   "cell_type": "code",
   "execution_count": null,
   "metadata": {},
   "outputs": [],
   "source": [
    "df_mysql = spark.read.jdbc(\"jdbc:mysql://ip-10-1-1-204.ap-south-1.compute.internal/\", \"jigsawdb.cctab\", \\\n",
    "                           properties={\"driver\": \"com.mysql.jdbc.Driver\", \"user\": \"jigsawuser\", \"password\": \"jigsaw321$\"})"
   ]
  },
  {
   "cell_type": "code",
   "execution_count": null,
   "metadata": {},
   "outputs": [],
   "source": [
    "df_mysql.count()"
   ]
  },
  {
   "cell_type": "code",
   "execution_count": null,
   "metadata": {},
   "outputs": [],
   "source": [
    "df_mysql.show()"
   ]
  }
 ],
 "metadata": {
  "kernelspec": {
   "display_name": "Python 3",
   "language": "python",
   "name": "python3"
  },
  "language_info": {
   "codemirror_mode": {
    "name": "ipython",
    "version": 3
   },
   "file_extension": ".py",
   "mimetype": "text/x-python",
   "name": "python",
   "nbconvert_exporter": "python",
   "pygments_lexer": "ipython3",
   "version": "3.5.2"
  }
 },
 "nbformat": 4,
 "nbformat_minor": 2
}
